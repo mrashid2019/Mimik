{
 "cells": [
  {
   "cell_type": "code",
   "execution_count": 54,
   "metadata": {},
   "outputs": [],
   "source": [
    "from torchaudio.datasets import LIBRISPEECH\n",
    "from torch.utils.data import DataLoader\n",
    "import json\n",
    "import pandas as pd\n",
    "from pydub import AudioSegment\n",
    "DATA_PATH = '/home/group6/Voice_Cloning/Mimik/Mimik_Voice_Cloner/ASR/datasets/LibriSpeech/'\n",
    "TRAIN_DATA_PATH = DATA_PATH+'LibriSpeech_train_clean_100/'\n",
    "TRAIN_DATA_JSON_PATH = '/home/group6/Voice_Cloning/Mimik/Mimik_Voice_Cloner/ASR/datasets/LibriSpeech_WAVS/train_clean_100/'\n",
    "TEST_DATA_JSON_PATH = '/home/group6/Voice_Cloning/Mimik/Mimik_Voice_Cloner/ASR/datasets/LibriSpeech_WAVS/test_clean_100/'"
   ]
  },
  {
   "cell_type": "code",
   "execution_count": 55,
   "metadata": {},
   "outputs": [],
   "source": [
    "ls_data = LIBRISPEECH(root = DATA_PATH, folder_in_archive='LibriSpeech_train_clean_100')\n",
    "ls_data_loader = DataLoader(ls_data,1,shuffle=True)"
   ]
  },
  {
   "cell_type": "code",
   "execution_count": 35,
   "metadata": {},
   "outputs": [
    {
     "data": {
      "text/plain": [
       "143"
      ]
     },
     "execution_count": 35,
     "metadata": {},
     "output_type": "execute_result"
    }
   ],
   "source": [
    "round(len(ls_data)*0.005)"
   ]
  },
  {
   "cell_type": "code",
   "execution_count": 36,
   "metadata": {},
   "outputs": [
    {
     "data": {
      "text/plain": [
       "[tensor([[[ 4.5776e-04, -3.0518e-05, -2.5024e-03,  ..., -6.1035e-05,\n",
       "           -6.1035e-05, -6.1035e-05]]]),\n",
       " tensor([16000]),\n",
       " ('AND THUS THAT CHURCH THOUGH AN EXPENSIVE AND BURDENSOME ESTABLISHMENT WAS LIABLE TO MANY OF THE INCONVENIENCES WHICH BELONG TO AN ORDER OF PRIESTS TRUSTING ENTIRELY TO THEIR OWN ART AND INVENTION FOR OBTAINING A SUBSISTENCE',),\n",
       " tensor([7635]),\n",
       " tensor([105661]),\n",
       " tensor([16])]"
      ]
     },
     "execution_count": 36,
     "metadata": {},
     "output_type": "execute_result"
    }
   ],
   "source": [
    "data_iter = ls_data_loader._get_iterator()\n",
    "data_iter.__next__()"
   ]
  },
  {
   "cell_type": "code",
   "execution_count": 37,
   "metadata": {},
   "outputs": [],
   "source": [
    "# def create_wav_from_flac(source_pth, dest_pth):\n",
    "    "
   ]
  },
  {
   "cell_type": "code",
   "execution_count": null,
   "metadata": {},
   "outputs": [],
   "source": [
    "temp_dict = dict.fromkeys(['Filepath','sample_rate','text','Speaker_ID', 'Chapter_ID', 'Utterance_ID'])\n",
    "# temp_dict = sample_dict.copy()\n",
    "train_data = {'Data':[]}\n",
    "test_data = {'Data':[]}\n",
    "\n",
    "for i, datapoint in enumerate(ls_data):\n",
    "    if i > 200:break\n",
    "\n",
    "    data = ls_data.get_metadata(i)\n",
    "    \n",
    "    if i%10 == 0:\n",
    "            print('Processing file',i,'...\\n')\n",
    "\n",
    "    if i <= round(len(ls_data)*0.005):\n",
    "        \n",
    "        for j,key in enumerate(temp_dict.keys()):\n",
    "            # print(key)\n",
    "            if key == 'Filepath':\n",
    "                audio_file = AudioSegment.from_file(TRAIN_DATA_PATH+data[j], format='flac')\n",
    "                audio_file.set_channels(1)\n",
    "                audio_file.export(f'{NEW_TRAIN_DATA_PATH}recording{i}.wav', format='wav')\n",
    "                temp_dict.update([(key,f'{NEW_TRAIN_DATA_PATH}recording{i}.wav')])\n",
    "            elif key == 'text':\n",
    "                temp_dict.update([(key,data[j].lower())])\n",
    "            else:\n",
    "                temp_dict.update([(key,data[j])])\n",
    "        train_data['Data'].append(temp_dict.copy())\n",
    "\n",
    "    else:\n",
    "        for j,key in enumerate(temp_dict.keys()):\n",
    "            # print(key)\n",
    "            if key == 'Filepath':\n",
    "                audio_file = AudioSegment.from_file(TRAIN_DATA_PATH+data[j], format='flac')\n",
    "                audio_file.set_channels(1)\n",
    "                audio_file.export(f'{NEW_TEST_DATA_PATH}recording{i}.wav', format='wav')\n",
    "                temp_dict.update([(key,f'{NEW_TEST_DATA_PATH}recording{i}.wav')])\n",
    "            elif key == 'text':\n",
    "                temp_dict.update([(key,data[j].lower())])\n",
    "            else:\n",
    "                temp_dict.update([(key,data[j])])\n",
    "        test_data['Data'].append(temp_dict.copy())\n",
    "\n",
    "        \n",
    "# train_df = pd.DataFrame(train_data['Data'])\n",
    "with open(NEW_TRAIN_DATA_PATH+'train_tc100.json','w') as file:\n",
    "    json.dump(train_data['Data'],file, indent=1)\n",
    "    file.close()\n",
    "\n",
    "with open(NEW_TEST_DATA_PATH+'test_tc100.json','w') as file:\n",
    "    json.dump(test_data['Data'],file, indent=1)\n",
    "    file.close()"
   ]
  },
  {
   "cell_type": "code",
   "execution_count": null,
   "metadata": {},
   "outputs": [],
   "source": [
    "temp_dict = dict.fromkeys(['Filepath','sample_rate','text','Speaker_ID', 'Chapter_ID', 'Utterance_ID'])\n",
    "# temp_dict = sample_dict.copy()\n",
    "train_data = {'Data':[]}\n",
    "test_data = {'Data':[]}\n",
    "\n",
    "for i, datapoint in enumerate(ls_data):\n",
    "    if i > 50:break\n",
    "\n",
    "    data = ls_data.get_metadata(i)\n",
    "    \n",
    "    if i%10 == 0:\n",
    "            print('Processing file',i,'...\\n')\n",
    "\n",
    "    if i <= round(len(ls_data)*0.005):\n",
    "        \n",
    "        for j,key in enumerate(temp_dict.keys()):\n",
    "            # print(key)\n",
    "            if key == 'Filepath':\n",
    "                temp_dict.update([(key,f'{DATA_PATH}recording{i}.wav')])\n",
    "            elif key == 'text':\n",
    "                temp_dict.update([(key,data[j].lower())])\n",
    "            else:\n",
    "                temp_dict.update([(key,data[j])])\n",
    "        train_data['Data'].append(temp_dict.copy())\n",
    "\n",
    "    else:\n",
    "        for j,key in enumerate(temp_dict.keys()):\n",
    "            # print(key)\n",
    "            if key == 'Filepath':\n",
    "                temp_dict.update([(key,f'{DATA_PATH}recording{i}.wav')])\n",
    "            elif key == 'text':\n",
    "                temp_dict.update([(key,data[j].lower())])\n",
    "            else:\n",
    "                temp_dict.update([(key,data[j])])\n",
    "        test_data['Data'].append(temp_dict.copy())\n",
    "\n",
    "        \n",
    "# train_df = pd.DataFrame(train_data['Data'])\n",
    "# with open(NEW_TRAIN_DATA_PATH+'train_tc100.json','w') as file:\n",
    "#     json.dump(train_data['Data'],file, indent=1)\n",
    "#     file.close()\n",
    "\n",
    "# with open(NEW_TEST_DATA_PATH+'test_tc100.json','w') as file:\n",
    "#     json.dump(test_data['Data'],file, indent=1)\n",
    "#     file.close()\n"
   ]
  },
  {
   "cell_type": "code",
   "execution_count": 61,
   "metadata": {},
   "outputs": [
    {
     "name": "stdout",
     "output_type": "stream",
     "text": [
      "{'Filepath': '/home/group6/Voice_Cloning/Mimik/Mimik_Voice_Cloner/ASR/datasets/LibriSpeech/recording0.wav', 'sample_rate': 16000, 'text': 'chapter one missus rachel lynde is surprised missus rachel lynde lived just where the avonlea main road dipped down into a little hollow fringed with alders and ladies eardrops and traversed by a brook', 'Speaker_ID': 103, 'Chapter_ID': 1240, 'Utterance_ID': 0} {'Filepath': '/home/group6/Voice_Cloning/Mimik/Mimik_Voice_Cloner/ASR/datasets/LibriSpeech/recording1.wav', 'sample_rate': 16000, 'text': \"that had its source away back in the woods of the old cuthbert place it was reputed to be an intricate headlong brook in its earlier course through those woods with dark secrets of pool and cascade but by the time it reached lynde's hollow it was a quiet well conducted little stream\", 'Speaker_ID': 103, 'Chapter_ID': 1240, 'Utterance_ID': 1} {'Filepath': '/home/group6/Voice_Cloning/Mimik/Mimik_Voice_Cloner/ASR/datasets/LibriSpeech/recording2.wav', 'sample_rate': 16000, 'text': \"for not even a brook could run past missus rachel lynde's door without due regard for decency and decorum it probably was conscious that missus rachel was sitting at her window keeping a sharp eye on everything that passed from brooks and children up\", 'Speaker_ID': 103, 'Chapter_ID': 1240, 'Utterance_ID': 2} {'Filepath': '/home/group6/Voice_Cloning/Mimik/Mimik_Voice_Cloner/ASR/datasets/LibriSpeech/recording3.wav', 'sample_rate': 16000, 'text': \"and that if she noticed anything odd or out of place she would never rest until she had ferreted out the whys and wherefores thereof there are plenty of people in avonlea and out of it who can attend closely to their neighbor's business by dint of neglecting their own\", 'Speaker_ID': 103, 'Chapter_ID': 1240, 'Utterance_ID': 3} {'Filepath': '/home/group6/Voice_Cloning/Mimik/Mimik_Voice_Cloner/ASR/datasets/LibriSpeech/recording4.wav', 'sample_rate': 16000, 'text': 'but missus rachel lynde was one of those capable creatures who can manage their own concerns and those of other folks into the bargain she was a notable housewife her work was always done and well done she ran the sewing circle', 'Speaker_ID': 103, 'Chapter_ID': 1240, 'Utterance_ID': 4} {'Filepath': '/home/group6/Voice_Cloning/Mimik/Mimik_Voice_Cloner/ASR/datasets/LibriSpeech/recording5.wav', 'sample_rate': 16000, 'text': 'helped run the sunday school and was the strongest prop of the church aid society and foreign missions auxiliary yet with all this missus rachel found abundant time to sit for hours at her kitchen window knitting cotton warp quilts she had knitted sixteen of them', 'Speaker_ID': 103, 'Chapter_ID': 1240, 'Utterance_ID': 5} {'Filepath': '/home/group6/Voice_Cloning/Mimik/Mimik_Voice_Cloner/ASR/datasets/LibriSpeech/recording6.wav', 'sample_rate': 16000, 'text': 'as avonlea housekeepers were wont to tell in awed voices and keeping a sharp eye on the main road that crossed the hollow and wound up the steep red hill beyond', 'Speaker_ID': 103, 'Chapter_ID': 1240, 'Utterance_ID': 6} {'Filepath': '/home/group6/Voice_Cloning/Mimik/Mimik_Voice_Cloner/ASR/datasets/LibriSpeech/recording7.wav', 'sample_rate': 16000, 'text': \"anybody who went out of it or into it had to pass over that hill road and so run the unseen gauntlet of missus rachel's all seeing eye she was sitting there one afternoon in early june the sun was coming in at the window warm and bright\", 'Speaker_ID': 103, 'Chapter_ID': 1240, 'Utterance_ID': 7} {'Filepath': '/home/group6/Voice_Cloning/Mimik/Mimik_Voice_Cloner/ASR/datasets/LibriSpeech/recording8.wav', 'sample_rate': 16000, 'text': \"the orchard on the slope below the house was in a bridal flush of pinky white bloom hummed over by a myriad of bees thomas lynde a meek little man whom avonlea people called rachel lynde's husband was sowing his late turnip seed on the hill field beyond the barn\", 'Speaker_ID': 103, 'Chapter_ID': 1240, 'Utterance_ID': 8} {'Filepath': '/home/group6/Voice_Cloning/Mimik/Mimik_Voice_Cloner/ASR/datasets/LibriSpeech/recording9.wav', 'sample_rate': 16000, 'text': \"missus rachel knew that he ought because she had heard him tell peter morrison the evening before in william j blair's store over at carmody that he meant to sow his turnip seed the next afternoon\", 'Speaker_ID': 103, 'Chapter_ID': 1240, 'Utterance_ID': 9} {'Filepath': '/home/group6/Voice_Cloning/Mimik/Mimik_Voice_Cloner/ASR/datasets/LibriSpeech/recording10.wav', 'sample_rate': 16000, 'text': 'peter had asked him of course for matthew cuthbert had never been known to volunteer information about anything in his whole life and yet here was matthew cuthbert at half past three on the afternoon of a busy day placidly driving over the hollow and up the hill', 'Speaker_ID': 103, 'Chapter_ID': 1240, 'Utterance_ID': 10} {'Filepath': '/home/group6/Voice_Cloning/Mimik/Mimik_Voice_Cloner/ASR/datasets/LibriSpeech/recording11.wav', 'sample_rate': 16000, 'text': 'and his best suit of clothes which was plain proof that he was going out of avonlea and he had the buggy and the sorrel mare which betokened that he was going a considerable distance now where was matthew cuthbert going and why was he going there', 'Speaker_ID': 103, 'Chapter_ID': 1240, 'Utterance_ID': 11} {'Filepath': '/home/group6/Voice_Cloning/Mimik/Mimik_Voice_Cloner/ASR/datasets/LibriSpeech/recording12.wav', 'sample_rate': 16000, 'text': 'had it been any other man in avonlea missus rachel deftly putting this and that together might have given a pretty good guess as to both questions but matthew so rarely went from home that it must be something pressing and unusual which was taking him', 'Speaker_ID': 103, 'Chapter_ID': 1240, 'Utterance_ID': 12} {'Filepath': '/home/group6/Voice_Cloning/Mimik/Mimik_Voice_Cloner/ASR/datasets/LibriSpeech/recording13.wav', 'sample_rate': 16000, 'text': \"he was the shyest man alive and hated to have to go among strangers or to any place where he might have to talk matthew dressed up with a white collar and driving in a buggy was something that didn't happen often missus rachel ponder as she might could make nothing of it\", 'Speaker_ID': 103, 'Chapter_ID': 1240, 'Utterance_ID': 13} {'Filepath': '/home/group6/Voice_Cloning/Mimik/Mimik_Voice_Cloner/ASR/datasets/LibriSpeech/recording14.wav', 'sample_rate': 16000, 'text': \"and her afternoon's enjoyment was spoiled i'll just step over to green gables after tea and find out from marilla where he's gone and why the worthy woman finally concluded he doesn't generally go to town this time of year and he never visits\", 'Speaker_ID': 103, 'Chapter_ID': 1240, 'Utterance_ID': 14} {'Filepath': '/home/group6/Voice_Cloning/Mimik/Mimik_Voice_Cloner/ASR/datasets/LibriSpeech/recording15.wav', 'sample_rate': 16000, 'text': \"if he'd run out of turnip seed he wouldn't dress up and take the buggy to go for more\", 'Speaker_ID': 103, 'Chapter_ID': 1240, 'Utterance_ID': 15} {'Filepath': '/home/group6/Voice_Cloning/Mimik/Mimik_Voice_Cloner/ASR/datasets/LibriSpeech/recording16.wav', 'sample_rate': 16000, 'text': \"yet something must have happened since last night to start him off i'm clean puzzled that's what and i won't know a minute's peace of mind or conscience until i know what has taken matthew cuthbert out of avonlea today accordingly after tea missus rachel set out she had not far to go\", 'Speaker_ID': 103, 'Chapter_ID': 1240, 'Utterance_ID': 16} {'Filepath': '/home/group6/Voice_Cloning/Mimik/Mimik_Voice_Cloner/ASR/datasets/LibriSpeech/recording17.wav', 'sample_rate': 16000, 'text': \"the big rambling orchard embowered house where the cuthberts lived was a scant quarter of a mile up the road from lynde's hollow to be sure the long lane made it a good deal further matthew cuthbert's father as shy and silent as his son after him\", 'Speaker_ID': 103, 'Chapter_ID': 1240, 'Utterance_ID': 17} {'Filepath': '/home/group6/Voice_Cloning/Mimik/Mimik_Voice_Cloner/ASR/datasets/LibriSpeech/recording18.wav', 'sample_rate': 16000, 'text': 'had got as far away as he possibly could from his fellow men without actually retreating into the woods when he founded his homestead green gables was built at the furthest edge of his cleared land and there it was to this day', 'Speaker_ID': 103, 'Chapter_ID': 1240, 'Utterance_ID': 18} {'Filepath': '/home/group6/Voice_Cloning/Mimik/Mimik_Voice_Cloner/ASR/datasets/LibriSpeech/recording19.wav', 'sample_rate': 16000, 'text': \"barely visible from the main road along which all the other avonlea houses were so sociably situated missus rachel lynde did not call living in such a place living at all it's just staying that's what she said as she stepped along the deep rutted grassy lane\", 'Speaker_ID': 103, 'Chapter_ID': 1240, 'Utterance_ID': 19} {'Filepath': '/home/group6/Voice_Cloning/Mimik/Mimik_Voice_Cloner/ASR/datasets/LibriSpeech/recording20.wav', 'sample_rate': 16000, 'text': \"bordered with wild rose bushes it's no wonder matthew and marilla are both a little odd living away back here by themselves trees aren't much company though dear knows if they were there'd be enough of them i'd ruther look at people to be sure\", 'Speaker_ID': 103, 'Chapter_ID': 1240, 'Utterance_ID': 20} {'Filepath': '/home/group6/Voice_Cloning/Mimik/Mimik_Voice_Cloner/ASR/datasets/LibriSpeech/recording21.wav', 'sample_rate': 16000, 'text': \"they seem contented enough but then i suppose they're used to it a body can get used to anything even to being hanged as the irishman said with this missus rachel stepped out of the lane into the backyard of green gables very green and neat and precise was that yard\", 'Speaker_ID': 103, 'Chapter_ID': 1240, 'Utterance_ID': 21} {'Filepath': '/home/group6/Voice_Cloning/Mimik/Mimik_Voice_Cloner/ASR/datasets/LibriSpeech/recording22.wav', 'sample_rate': 16000, 'text': 'set about on one side with great patriarchal willows and the other with prim lombardies not a stray stick nor stone was to be seen for missus rachel would have seen it if there had been privately she was of the opinion that marilla cuthbert swept that yard over as often as she swept her house', 'Speaker_ID': 103, 'Chapter_ID': 1240, 'Utterance_ID': 22} {'Filepath': '/home/group6/Voice_Cloning/Mimik/Mimik_Voice_Cloner/ASR/datasets/LibriSpeech/recording23.wav', 'sample_rate': 16000, 'text': 'one could have eaten a meal off the ground without overbrimming the proverbial peck of dirt missus rachel rapped smartly at the kitchen door and stepped in when bidden to do so the kitchen at green gables was a cheerful apartment', 'Speaker_ID': 103, 'Chapter_ID': 1240, 'Utterance_ID': 23} {'Filepath': '/home/group6/Voice_Cloning/Mimik/Mimik_Voice_Cloner/ASR/datasets/LibriSpeech/recording24.wav', 'sample_rate': 16000, 'text': 'or would have been cheerful if it had not been so painfully clean as to give it something of the appearance of an unused parlor its windows looked east and west through the west one looking out on the back yard came a flood of mellow june sunlight but the east one', 'Speaker_ID': 103, 'Chapter_ID': 1240, 'Utterance_ID': 24} {'Filepath': '/home/group6/Voice_Cloning/Mimik/Mimik_Voice_Cloner/ASR/datasets/LibriSpeech/recording25.wav', 'sample_rate': 16000, 'text': 'whence you got a glimpse of the bloom white cherry trees in the left orchard and nodding slender birches down in the hollow by the brook was greened over by a tangle of vines here sat marilla cuthbert when she sat at all always slightly distrustful of sunshine', 'Speaker_ID': 103, 'Chapter_ID': 1240, 'Utterance_ID': 25} {'Filepath': '/home/group6/Voice_Cloning/Mimik/Mimik_Voice_Cloner/ASR/datasets/LibriSpeech/recording26.wav', 'sample_rate': 16000, 'text': 'and here she sat now knitting and the table behind her was laid for supper missus rachel before she had fairly closed the door', 'Speaker_ID': 103, 'Chapter_ID': 1240, 'Utterance_ID': 26} {'Filepath': '/home/group6/Voice_Cloning/Mimik/Mimik_Voice_Cloner/ASR/datasets/LibriSpeech/recording27.wav', 'sample_rate': 16000, 'text': 'there were three plates laid so that marilla must be expecting some one home with matthew to tea but the dishes were everyday dishes and there was only crab apple preserves and one kind of cake so that the expected company could not be any particular company', 'Speaker_ID': 103, 'Chapter_ID': 1240, 'Utterance_ID': 27} {'Filepath': '/home/group6/Voice_Cloning/Mimik/Mimik_Voice_Cloner/ASR/datasets/LibriSpeech/recording28.wav', 'sample_rate': 16000, 'text': \"yet what of matthew's white collar and the sorrel mare missus rachel was getting fairly dizzy with this unusual mystery about quiet unmysterious green gables good evening rachel marilla said briskly this is a real fine evening isn't it won't you sit down\", 'Speaker_ID': 103, 'Chapter_ID': 1240, 'Utterance_ID': 28} {'Filepath': '/home/group6/Voice_Cloning/Mimik/Mimik_Voice_Cloner/ASR/datasets/LibriSpeech/recording29.wav', 'sample_rate': 16000, 'text': 'how are all your folks something that for lack of any other name might be called friendship existed and always had existed between marilla cuthbert and missus rachel in spite of or perhaps because of their dissimilarity marilla was a tall', 'Speaker_ID': 103, 'Chapter_ID': 1240, 'Utterance_ID': 29} {'Filepath': '/home/group6/Voice_Cloning/Mimik/Mimik_Voice_Cloner/ASR/datasets/LibriSpeech/recording30.wav', 'sample_rate': 16000, 'text': 'thin woman with angles and without curves her dark hair showed some gray streaks and was always twisted up in a hard little knot behind with two wire hairpins stuck aggressively through it she looked like a woman of narrow experience and rigid conscience which she was', 'Speaker_ID': 103, 'Chapter_ID': 1240, 'Utterance_ID': 30} {'Filepath': '/home/group6/Voice_Cloning/Mimik/Mimik_Voice_Cloner/ASR/datasets/LibriSpeech/recording31.wav', 'sample_rate': 16000, 'text': \"but there was a saving something about her mouth which if it had been ever so slightly developed might have been considered indicative of a sense of humor we're all pretty well said missus rachel i was kind of afraid you weren't though when i saw matthew starting off today i thought maybe he was going to the doctor's\", 'Speaker_ID': 103, 'Chapter_ID': 1240, 'Utterance_ID': 31} {'Filepath': '/home/group6/Voice_Cloning/Mimik/Mimik_Voice_Cloner/ASR/datasets/LibriSpeech/recording32.wav', 'sample_rate': 16000, 'text': \"marilla's lips twitched understandingly she had expected missus rachel up she had known that the sight of matthew jaunting off so unaccountably would be too much for her neighbor's curiosity oh no i'm quite well although i had a bad headache yesterday she said\", 'Speaker_ID': 103, 'Chapter_ID': 1240, 'Utterance_ID': 32} {'Filepath': '/home/group6/Voice_Cloning/Mimik/Mimik_Voice_Cloner/ASR/datasets/LibriSpeech/recording33.wav', 'sample_rate': 16000, 'text': \"matthew went to bright river we're getting a little boy from an orphan asylum in nova scotia and he's coming on the train tonight if marilla had said that matthew had gone to bright river to meet a kangaroo from australia missus rachel could not have been more astonished\", 'Speaker_ID': 103, 'Chapter_ID': 1240, 'Utterance_ID': 33} {'Filepath': '/home/group6/Voice_Cloning/Mimik/Mimik_Voice_Cloner/ASR/datasets/LibriSpeech/recording34.wav', 'sample_rate': 16000, 'text': 'she was actually stricken dumb for five seconds it was unsupposable that marilla was making fun of her but missus rachel was almost forced to suppose it are you in earnest marilla she demanded when voice returned to her yes of course', 'Speaker_ID': 103, 'Chapter_ID': 1240, 'Utterance_ID': 34} {'Filepath': '/home/group6/Voice_Cloning/Mimik/Mimik_Voice_Cloner/ASR/datasets/LibriSpeech/recording35.wav', 'sample_rate': 16000, 'text': 'said marilla as if getting boys from orphan asylums in nova scotia were part of the usual spring work on any well regulated avonlea farm instead of being an unheard of innovation missus rachel felt that she had received a severe mental jolt she thought in exclamation points', 'Speaker_ID': 103, 'Chapter_ID': 1240, 'Utterance_ID': 35} {'Filepath': '/home/group6/Voice_Cloning/Mimik/Mimik_Voice_Cloner/ASR/datasets/LibriSpeech/recording36.wav', 'sample_rate': 16000, 'text': 'marilla and matthew cuthbert of all people adopting a boy from an orphan asylum well the world was certainly turning upside down she would be surprised at nothing after this nothing', 'Speaker_ID': 103, 'Chapter_ID': 1240, 'Utterance_ID': 36} {'Filepath': '/home/group6/Voice_Cloning/Mimik/Mimik_Voice_Cloner/ASR/datasets/LibriSpeech/recording37.wav', 'sample_rate': 16000, 'text': \"what on earth put such a notion into your head she demanded disapprovingly this had been done without her advice being asked and must perforce be disapproved well we've been thinking about it for some time all winter in fact returned marilla\", 'Speaker_ID': 103, 'Chapter_ID': 1240, 'Utterance_ID': 37} {'Filepath': '/home/group6/Voice_Cloning/Mimik/Mimik_Voice_Cloner/ASR/datasets/LibriSpeech/recording38.wav', 'sample_rate': 16000, 'text': 'missus alexander spencer was up here one day before christmas and she said she was going to get a little girl from the asylum over in hopeton in the spring', 'Speaker_ID': 103, 'Chapter_ID': 1240, 'Utterance_ID': 38} {'Filepath': '/home/group6/Voice_Cloning/Mimik/Mimik_Voice_Cloner/ASR/datasets/LibriSpeech/recording39.wav', 'sample_rate': 16000, 'text': \"so matthew and i have talked it over off and on ever since we thought we'd get a boy matthew is getting up in years you know he's sixty and he isn't so spry as he once was his heart troubles him a good deal and you know how desperate hard it's got to be to get hired help\", 'Speaker_ID': 103, 'Chapter_ID': 1240, 'Utterance_ID': 39} {'Filepath': '/home/group6/Voice_Cloning/Mimik/Mimik_Voice_Cloner/ASR/datasets/LibriSpeech/recording40.wav', 'sample_rate': 16000, 'text': \"there's never anybody to be had but those stupid half grown little french boys and as soon as you do get one broke into your ways and taught something he's up and off to the lobster canneries or the states at first matthew suggested getting a home boy but i said no flat to that\", 'Speaker_ID': 103, 'Chapter_ID': 1240, 'Utterance_ID': 40} {'Filepath': '/home/group6/Voice_Cloning/Mimik/Mimik_Voice_Cloner/ASR/datasets/LibriSpeech/recording41.wav', 'sample_rate': 16000, 'text': \"they may be all right i'm not saying they're not but no london street arabs for me i said give me a native born at least there'll be a risk no matter who we get but i'll feel easier in my mind and sleep sounder at nights if we get a born canadian\", 'Speaker_ID': 103, 'Chapter_ID': 1240, 'Utterance_ID': 41} {'Filepath': '/home/group6/Voice_Cloning/Mimik/Mimik_Voice_Cloner/ASR/datasets/LibriSpeech/recording42.wav', 'sample_rate': 16000, 'text': \"so in the end we decided to ask missus spencer to pick us out one when she went over to get her little girl we heard last week she was going so we sent her word by richard spencer's folks at carmody to bring us a smart likely boy of about ten or eleven we decided that would be the best age\", 'Speaker_ID': 103, 'Chapter_ID': 1240, 'Utterance_ID': 42} {'Filepath': '/home/group6/Voice_Cloning/Mimik/Mimik_Voice_Cloner/ASR/datasets/LibriSpeech/recording43.wav', 'sample_rate': 16000, 'text': 'old enough to be of some use in doing chores right off and young enough to be trained up proper we mean to give him a good home and schooling we had a telegram from missus alexander spencer today the mail man brought it from the station saying they were coming on the five thirty train tonight', 'Speaker_ID': 103, 'Chapter_ID': 1240, 'Utterance_ID': 43} {'Filepath': '/home/group6/Voice_Cloning/Mimik/Mimik_Voice_Cloner/ASR/datasets/LibriSpeech/recording44.wav', 'sample_rate': 16000, 'text': 'so matthew went to bright river to meet him missus spencer will drop him off there of course she goes on to white sands station herself missus rachel prided herself on always speaking her mind she proceeded to speak it now having adjusted her mental attitude to this amazing piece of news', 'Speaker_ID': 103, 'Chapter_ID': 1240, 'Utterance_ID': 44} {'Filepath': '/home/group6/Voice_Cloning/Mimik/Mimik_Voice_Cloner/ASR/datasets/LibriSpeech/recording45.wav', 'sample_rate': 16000, 'text': \"well marilla i'll just tell you plain that i think you're doing a mighty foolish thing a risky thing that's what you don't know what you're getting you're bringing a strange child into your house and home and you don't know a single thing about him nor what his disposition is like nor what sort of parents he had\", 'Speaker_ID': 103, 'Chapter_ID': 1240, 'Utterance_ID': 45} {'Filepath': '/home/group6/Voice_Cloning/Mimik/Mimik_Voice_Cloner/ASR/datasets/LibriSpeech/recording46.wav', 'sample_rate': 16000, 'text': \"nor how he's likely to turn out why it was only last week i read in the paper how a man and his wife up west of the island took a boy out of an orphan asylum and he set fire to the house at night set it on purpose marilla and nearly burnt them to a crisp in their beds\", 'Speaker_ID': 103, 'Chapter_ID': 1240, 'Utterance_ID': 46} {'Filepath': '/home/group6/Voice_Cloning/Mimik/Mimik_Voice_Cloner/ASR/datasets/LibriSpeech/recording47.wav', 'sample_rate': 16000, 'text': \"and i know another case where an adopted boy used to suck the eggs they couldn't break him of it if you had asked my advice in the matter which you didn't do marilla i'd have said for mercy's sake not to think of such a thing that's what\", 'Speaker_ID': 103, 'Chapter_ID': 1240, 'Utterance_ID': 47} {'Filepath': '/home/group6/Voice_Cloning/Mimik/Mimik_Voice_Cloner/ASR/datasets/LibriSpeech/recording48.wav', 'sample_rate': 16000, 'text': \"this job's comforting seemed neither to offend nor to alarm marilla she knitted steadily on i don't deny there's something in what you say rachel i've had some qualms myself but matthew was terrible set on it i could see that so i gave in\", 'Speaker_ID': 103, 'Chapter_ID': 1240, 'Utterance_ID': 48} {'Filepath': '/home/group6/Voice_Cloning/Mimik/Mimik_Voice_Cloner/ASR/datasets/LibriSpeech/recording49.wav', 'sample_rate': 16000, 'text': \"it's so seldom matthew sets his mind on anything that when he does i always feel it's my duty to give in and as for the risk there's risks in pretty near everything a body does in this world there's risks in people's having children of their own if it comes to that they don't always turn out well\", 'Speaker_ID': 103, 'Chapter_ID': 1240, 'Utterance_ID': 49} {'Filepath': '/home/group6/Voice_Cloning/Mimik/Mimik_Voice_Cloner/ASR/datasets/LibriSpeech/recording50.wav', 'sample_rate': 16000, 'text': \"and then nova scotia is right close to the island it isn't as if we were getting him from england or the states he can't be much different from ourselves well i hope it will turn out all right said missus rachel in a tone that plainly indicated her painful doubts\", 'Speaker_ID': 103, 'Chapter_ID': 1240, 'Utterance_ID': 50}\n"
     ]
    }
   ],
   "source": [
    "print(*train_data['Data'])"
   ]
  },
  {
   "cell_type": "code",
   "execution_count": 39,
   "metadata": {},
   "outputs": [],
   "source": [
    "import librosa\n",
    "import IPython.display as ipd"
   ]
  },
  {
   "cell_type": "code",
   "execution_count": 50,
   "metadata": {},
   "outputs": [
    {
     "name": "stdout",
     "output_type": "stream",
     "text": [
      "(310575,) 22050\n"
     ]
    }
   ],
   "source": [
    "# audio = librosa.load('/home/group6/Voice_Cloning/Mimik/Mimik_Voice_Cloner/ASR/datasets/LibriSpeech_WAVS/train_clean_100/recording0.wav', sr=16000)\n",
    "try:\n",
    "    audio, sr = librosa.load('/home/group6/Voice_Cloning/Mimik/Mimik_Voice_Cloner/ASR/datasets/LibriSpeech_WAVS/train_clean_100/recording0.wav')\n",
    "    audio_obj = ipd.Audio(data=audio, rate=sr)\n",
    "    print(audio.shape,sr)\n",
    "except Exception as e:\n",
    "    print('ERROR:', e)"
   ]
  }
 ],
 "metadata": {
  "kernelspec": {
   "display_name": "Python 3.8.10 ('env': venv)",
   "language": "python",
   "name": "python3"
  },
  "language_info": {
   "codemirror_mode": {
    "name": "ipython",
    "version": 3
   },
   "file_extension": ".py",
   "mimetype": "text/x-python",
   "name": "python",
   "nbconvert_exporter": "python",
   "pygments_lexer": "ipython3",
   "version": "3.8.10"
  },
  "orig_nbformat": 4,
  "vscode": {
   "interpreter": {
    "hash": "f15ef7ac6bc96f21d4ef621066f5c2aa75f1eee1728be2ea0ecb2c8101fd8ceb"
   }
  }
 },
 "nbformat": 4,
 "nbformat_minor": 2
}
